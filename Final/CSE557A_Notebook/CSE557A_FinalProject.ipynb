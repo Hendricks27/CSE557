{
 "cells": [
  {
   "cell_type": "code",
   "execution_count": 28,
   "metadata": {},
   "outputs": [
    {
     "name": "stderr",
     "output_type": "stream",
     "text": [
      "[nltk_data] Downloading package stopwords to\n",
      "[nltk_data]     /Users/tianqiwu/nltk_data...\n",
      "[nltk_data]   Package stopwords is already up-to-date!\n"
     ]
    }
   ],
   "source": [
    "## All the import\n",
    "import matplotlib.pyplot as plt\n",
    "import numpy as np\n",
    "import pandas as pd\n",
    "from pandas.plotting import table \n",
    "import copy\n",
    "import dataframe_image as dfi\n",
    "import seaborn as sns\n",
    "from wordcloud import WordCloud\n",
    "import nltk\n",
    "nltk.download('stopwords')\n",
    "from nltk.corpus import stopwords\n",
    "import copy\n",
    "from itertools import combinations\n",
    "import geopandas as gpd\n",
    "#https://stackoverflow.com/questions/35402874/global-name-parseerror-is-not-defined-i-used-try-and-except-to-avoid-it-but-t\n",
    "from pandas.errors import ParserError"
   ]
  },
  {
   "cell_type": "markdown",
   "metadata": {},
   "source": [
    "# Global Variables\n",
    "For storing relevant values that may be useful."
   ]
  },
  {
   "cell_type": "code",
   "execution_count": 29,
   "metadata": {},
   "outputs": [],
   "source": [
    "# graphical ID for storing images"
   ]
  },
  {
   "cell_type": "code",
   "execution_count": 30,
   "metadata": {},
   "outputs": [
    {
     "data": {
      "text/html": [
       "<div>\n",
       "<style scoped>\n",
       "    .dataframe tbody tr th:only-of-type {\n",
       "        vertical-align: middle;\n",
       "    }\n",
       "\n",
       "    .dataframe tbody tr th {\n",
       "        vertical-align: top;\n",
       "    }\n",
       "\n",
       "    .dataframe thead th {\n",
       "        text-align: right;\n",
       "    }\n",
       "</style>\n",
       "<table border=\"1\" class=\"dataframe\">\n",
       "  <thead>\n",
       "    <tr style=\"text-align: right;\">\n",
       "      <th></th>\n",
       "      <th>Cement (component 1)(kg in a m^3 mixture)</th>\n",
       "      <th>Blast Furnace Slag (component 2)(kg in a m^3 mixture)</th>\n",
       "      <th>Fly Ash (component 3)(kg in a m^3 mixture)</th>\n",
       "      <th>Water  (component 4)(kg in a m^3 mixture)</th>\n",
       "      <th>Superplasticizer (component 5)(kg in a m^3 mixture)</th>\n",
       "      <th>Coarse Aggregate  (component 6)(kg in a m^3 mixture)</th>\n",
       "      <th>Fine Aggregate (component 7)(kg in a m^3 mixture)</th>\n",
       "      <th>Age (day)</th>\n",
       "      <th>Concrete compressive strength(MPa, megapascals)</th>\n",
       "    </tr>\n",
       "  </thead>\n",
       "  <tbody>\n",
       "    <tr>\n",
       "      <th>0</th>\n",
       "      <td>540.0</td>\n",
       "      <td>0.0</td>\n",
       "      <td>0.0</td>\n",
       "      <td>162.0</td>\n",
       "      <td>2.5</td>\n",
       "      <td>1040.0</td>\n",
       "      <td>676.0</td>\n",
       "      <td>28</td>\n",
       "      <td>79.986111</td>\n",
       "    </tr>\n",
       "    <tr>\n",
       "      <th>1</th>\n",
       "      <td>540.0</td>\n",
       "      <td>0.0</td>\n",
       "      <td>0.0</td>\n",
       "      <td>162.0</td>\n",
       "      <td>2.5</td>\n",
       "      <td>1055.0</td>\n",
       "      <td>676.0</td>\n",
       "      <td>28</td>\n",
       "      <td>61.887366</td>\n",
       "    </tr>\n",
       "    <tr>\n",
       "      <th>2</th>\n",
       "      <td>332.5</td>\n",
       "      <td>142.5</td>\n",
       "      <td>0.0</td>\n",
       "      <td>228.0</td>\n",
       "      <td>0.0</td>\n",
       "      <td>932.0</td>\n",
       "      <td>594.0</td>\n",
       "      <td>270</td>\n",
       "      <td>40.269535</td>\n",
       "    </tr>\n",
       "    <tr>\n",
       "      <th>3</th>\n",
       "      <td>332.5</td>\n",
       "      <td>142.5</td>\n",
       "      <td>0.0</td>\n",
       "      <td>228.0</td>\n",
       "      <td>0.0</td>\n",
       "      <td>932.0</td>\n",
       "      <td>594.0</td>\n",
       "      <td>365</td>\n",
       "      <td>41.052780</td>\n",
       "    </tr>\n",
       "    <tr>\n",
       "      <th>4</th>\n",
       "      <td>198.6</td>\n",
       "      <td>132.4</td>\n",
       "      <td>0.0</td>\n",
       "      <td>192.0</td>\n",
       "      <td>0.0</td>\n",
       "      <td>978.4</td>\n",
       "      <td>825.5</td>\n",
       "      <td>360</td>\n",
       "      <td>44.296075</td>\n",
       "    </tr>\n",
       "    <tr>\n",
       "      <th>...</th>\n",
       "      <td>...</td>\n",
       "      <td>...</td>\n",
       "      <td>...</td>\n",
       "      <td>...</td>\n",
       "      <td>...</td>\n",
       "      <td>...</td>\n",
       "      <td>...</td>\n",
       "      <td>...</td>\n",
       "      <td>...</td>\n",
       "    </tr>\n",
       "    <tr>\n",
       "      <th>1025</th>\n",
       "      <td>276.4</td>\n",
       "      <td>116.0</td>\n",
       "      <td>90.3</td>\n",
       "      <td>179.6</td>\n",
       "      <td>8.9</td>\n",
       "      <td>870.1</td>\n",
       "      <td>768.3</td>\n",
       "      <td>28</td>\n",
       "      <td>44.284354</td>\n",
       "    </tr>\n",
       "    <tr>\n",
       "      <th>1026</th>\n",
       "      <td>322.2</td>\n",
       "      <td>0.0</td>\n",
       "      <td>115.6</td>\n",
       "      <td>196.0</td>\n",
       "      <td>10.4</td>\n",
       "      <td>817.9</td>\n",
       "      <td>813.4</td>\n",
       "      <td>28</td>\n",
       "      <td>31.178794</td>\n",
       "    </tr>\n",
       "    <tr>\n",
       "      <th>1027</th>\n",
       "      <td>148.5</td>\n",
       "      <td>139.4</td>\n",
       "      <td>108.6</td>\n",
       "      <td>192.7</td>\n",
       "      <td>6.1</td>\n",
       "      <td>892.4</td>\n",
       "      <td>780.0</td>\n",
       "      <td>28</td>\n",
       "      <td>23.696601</td>\n",
       "    </tr>\n",
       "    <tr>\n",
       "      <th>1028</th>\n",
       "      <td>159.1</td>\n",
       "      <td>186.7</td>\n",
       "      <td>0.0</td>\n",
       "      <td>175.6</td>\n",
       "      <td>11.3</td>\n",
       "      <td>989.6</td>\n",
       "      <td>788.9</td>\n",
       "      <td>28</td>\n",
       "      <td>32.768036</td>\n",
       "    </tr>\n",
       "    <tr>\n",
       "      <th>1029</th>\n",
       "      <td>260.9</td>\n",
       "      <td>100.5</td>\n",
       "      <td>78.3</td>\n",
       "      <td>200.6</td>\n",
       "      <td>8.6</td>\n",
       "      <td>864.5</td>\n",
       "      <td>761.5</td>\n",
       "      <td>28</td>\n",
       "      <td>32.401235</td>\n",
       "    </tr>\n",
       "  </tbody>\n",
       "</table>\n",
       "<p>1030 rows × 9 columns</p>\n",
       "</div>"
      ],
      "text/plain": [
       "      Cement (component 1)(kg in a m^3 mixture)  \\\n",
       "0                                         540.0   \n",
       "1                                         540.0   \n",
       "2                                         332.5   \n",
       "3                                         332.5   \n",
       "4                                         198.6   \n",
       "...                                         ...   \n",
       "1025                                      276.4   \n",
       "1026                                      322.2   \n",
       "1027                                      148.5   \n",
       "1028                                      159.1   \n",
       "1029                                      260.9   \n",
       "\n",
       "      Blast Furnace Slag (component 2)(kg in a m^3 mixture)  \\\n",
       "0                                                   0.0       \n",
       "1                                                   0.0       \n",
       "2                                                 142.5       \n",
       "3                                                 142.5       \n",
       "4                                                 132.4       \n",
       "...                                                 ...       \n",
       "1025                                              116.0       \n",
       "1026                                                0.0       \n",
       "1027                                              139.4       \n",
       "1028                                              186.7       \n",
       "1029                                              100.5       \n",
       "\n",
       "      Fly Ash (component 3)(kg in a m^3 mixture)  \\\n",
       "0                                            0.0   \n",
       "1                                            0.0   \n",
       "2                                            0.0   \n",
       "3                                            0.0   \n",
       "4                                            0.0   \n",
       "...                                          ...   \n",
       "1025                                        90.3   \n",
       "1026                                       115.6   \n",
       "1027                                       108.6   \n",
       "1028                                         0.0   \n",
       "1029                                        78.3   \n",
       "\n",
       "      Water  (component 4)(kg in a m^3 mixture)  \\\n",
       "0                                         162.0   \n",
       "1                                         162.0   \n",
       "2                                         228.0   \n",
       "3                                         228.0   \n",
       "4                                         192.0   \n",
       "...                                         ...   \n",
       "1025                                      179.6   \n",
       "1026                                      196.0   \n",
       "1027                                      192.7   \n",
       "1028                                      175.6   \n",
       "1029                                      200.6   \n",
       "\n",
       "      Superplasticizer (component 5)(kg in a m^3 mixture)  \\\n",
       "0                                                   2.5     \n",
       "1                                                   2.5     \n",
       "2                                                   0.0     \n",
       "3                                                   0.0     \n",
       "4                                                   0.0     \n",
       "...                                                 ...     \n",
       "1025                                                8.9     \n",
       "1026                                               10.4     \n",
       "1027                                                6.1     \n",
       "1028                                               11.3     \n",
       "1029                                                8.6     \n",
       "\n",
       "      Coarse Aggregate  (component 6)(kg in a m^3 mixture)  \\\n",
       "0                                                1040.0      \n",
       "1                                                1055.0      \n",
       "2                                                 932.0      \n",
       "3                                                 932.0      \n",
       "4                                                 978.4      \n",
       "...                                                 ...      \n",
       "1025                                              870.1      \n",
       "1026                                              817.9      \n",
       "1027                                              892.4      \n",
       "1028                                              989.6      \n",
       "1029                                              864.5      \n",
       "\n",
       "      Fine Aggregate (component 7)(kg in a m^3 mixture)  Age (day)  \\\n",
       "0                                                 676.0         28   \n",
       "1                                                 676.0         28   \n",
       "2                                                 594.0        270   \n",
       "3                                                 594.0        365   \n",
       "4                                                 825.5        360   \n",
       "...                                                 ...        ...   \n",
       "1025                                              768.3         28   \n",
       "1026                                              813.4         28   \n",
       "1027                                              780.0         28   \n",
       "1028                                              788.9         28   \n",
       "1029                                              761.5         28   \n",
       "\n",
       "      Concrete compressive strength(MPa, megapascals)   \n",
       "0                                            79.986111  \n",
       "1                                            61.887366  \n",
       "2                                            40.269535  \n",
       "3                                            41.052780  \n",
       "4                                            44.296075  \n",
       "...                                                ...  \n",
       "1025                                         44.284354  \n",
       "1026                                         31.178794  \n",
       "1027                                         23.696601  \n",
       "1028                                         32.768036  \n",
       "1029                                         32.401235  \n",
       "\n",
       "[1030 rows x 9 columns]"
      ]
     },
     "execution_count": 30,
     "metadata": {},
     "output_type": "execute_result"
    }
   ],
   "source": [
    "# Tentative: Insert data\n",
    "new_pd = pd.read_excel(\"./Concrete_Data.xls\")#(\"./toy_data.xls\")#(\"./Concrete_Data.xls\")\n",
    "new_pd"
   ]
  },
  {
   "cell_type": "markdown",
   "metadata": {},
   "source": [
    "## Helper Functions\n",
    "\n",
    "All Functions listed in this section are helper functions.\n",
    "\n",
    "* combination(): For generating possible combinations. \n",
    "* is_categorical(): For deciding if a single row is categorical or not.\n",
    "* get_type_number(): Get the number of types(categorical, numerical, date) for each type."
   ]
  },
  {
   "cell_type": "code",
   "execution_count": 31,
   "metadata": {},
   "outputs": [],
   "source": [
    "\"\"\"\n",
    "def combination(total_number, count):\n",
    "    all_combination = []\n",
    "    single_combination = []\n",
    "    get_all_combination(all_combination, single_combination, total_number, count, 0)\n",
    "    return all_combination\n",
    "    \n",
    "def get_all_combination(all_combination, single_combination, total_len, count, curr_index):\n",
    "    if(curr_index == total_len):\n",
    "        if(len(single_combination) == count):\n",
    "            new_list = copy.deepcopy(single_combination)\n",
    "            all_combination.append(new_list)\n",
    "    else:\n",
    "        get_all_combination(all_combination, single_combination, total_len, count, curr_index + 1)\n",
    "        single_combination.append(curr_index)\n",
    "        get_all_combination(all_combination, single_combination, total_len, count, curr_index + 1)\n",
    "        # https://stackoverflow.com/questions/18169965/how-to-delete-last-item-in-list\n",
    "        del single_combination[-1]\n",
    "def preprocess_name(string):\n",
    "    return string.split(\" \")[0]\n",
    "\"\"\"\n",
    "\n",
    "# https://www.geeksforgeeks.org/itertools-combinations-module-python-print-possible-combinations/\n",
    "def combination(total_number, count):\n",
    "    arr = []\n",
    "    for i in range(0, total_number):\n",
    "        arr.append(i)\n",
    "    return list(combinations(arr, count))\n",
    "\n",
    "#combination(25, 12)"
   ]
  },
  {
   "cell_type": "code",
   "execution_count": 32,
   "metadata": {},
   "outputs": [],
   "source": [
    "# Global Variables\n",
    "\n",
    "CATEGORICAL = 0\n",
    "NUMERICAL = 1\n",
    "DATE = 2"
   ]
  },
  {
   "cell_type": "code",
   "execution_count": 33,
   "metadata": {},
   "outputs": [],
   "source": [
    "# Helper Functions\n",
    "# See if the current value is categorical\n",
    "# https://stackoverflow.com/questions/26924904/check-if-dataframe-column-is-categorical\n",
    "def is_categorical(df):\n",
    "    return df.dtype.name == 'category' or df.dtype.name == 'object'\n",
    "\n",
    "# https://stackoverflow.com/questions/69687640/how-to-iterate-over-columns-using-pandas\n",
    "# first categorical, numberical, date\n",
    "def get_type_number(df):\n",
    "    result = [0, 0, 0]\n",
    "    for i in range(0, len(df.columns)):\n",
    "        if(is_categorical(new_pd[df.columns[i]])):\n",
    "            result[0] = result[0] + 1\n",
    "        else:\n",
    "            result[1] = result[1] + 1\n",
    "            ## [NS]\n",
    "        if(new_pd[df.columns[i]].dtype.name == 'datetime64[ns]'):\n",
    "            result[2] = result[2] + 1\n",
    "    return result\n"
   ]
  },
  {
   "cell_type": "markdown",
   "metadata": {},
   "source": [
    "# Legacy Code (Recommendation System)\n",
    "Decided to give up this part for some new implementations"
   ]
  },
  {
   "cell_type": "code",
   "execution_count": 34,
   "metadata": {},
   "outputs": [],
   "source": [
    "# Initialize rule-based learning recommendation system\n",
    "all_recommend_dict = {}\n",
    "# Part 1: Before Additional Part\n",
    "all_recommend_dict[\"text_table\"] = 1\n",
    "all_recommend_dict[\"aligned_bar\"] = 0#2\n",
    "all_recommend_dict[\"stacked_bar\"] = 0#2 # 3 with 3 C\n",
    "all_recommend_dict[\"discrete_line\"] = 0#4\n",
    "all_recommend_dict[\"scatter_plot\"] = 0#5\n",
    "all_recommend_dict[\"gantt_chart\"] = 0#6\n",
    "\n",
    "all_recommend_array = [\"text_table\", \"aligned_bar\", \"stacked_bar\", \"discrete_line\", \"scatter_plot\", \"gantt_chart\"]\n",
    "\n"
   ]
  },
  {
   "cell_type": "code",
   "execution_count": 35,
   "metadata": {},
   "outputs": [
    {
     "data": {
      "text/plain": [
       "{'text_table': 1,\n",
       " 'aligned_bar': 2,\n",
       " 'stacked_bar': 0,\n",
       " 'discrete_line': 0,\n",
       " 'scatter_plot': 0,\n",
       " 'gantt_chart': 0}"
      ]
     },
     "execution_count": 35,
     "metadata": {},
     "output_type": "execute_result"
    }
   ],
   "source": [
    "# Rule-based Learning Process\n",
    "# https://stackoverflow.com/questions/20297332/how-do-i-retrieve-the-number-of-columns-in-a-pandas-data-frame\n",
    "def rule_based_filtering(df, all_recommend_dict):\n",
    "    all_recommend_dict = copy.deepcopy(all_recommend_dict)\n",
    "    all_valid_charts = []\n",
    "    df_categorical_status = get_type_number(df)\n",
    "    if(len(df.columns) > 0):\n",
    "        all_valid_charts.append(\"text_table\")\n",
    "    if(df_categorical_status[1] >= 1):\n",
    "        all_valid_charts.append(\"aligned_bar\")\n",
    "        all_recommend_dict[\"aligned_bar\"] = 2#2\n",
    "    if(df_categorical_status[0] >= 2 and df_categorical_status[1] >= 1):\n",
    "        all_valid_charts.append(\"stacked_bar\")\n",
    "        all_recommend_dict[\"stacked_bar\"] = 2\n",
    "        if(df_categorical_status[0] >= 3):\n",
    "            all_recommend_dict[\"stacked_bar\"] = 3\n",
    "    # https://stackoverflow.com/questions/43214204/how-do-i-tell-if-a-column-in-a-pandas-dataframe-is-of-type-datetime-how-do-i-te\n",
    "    if(df_categorical_status[2] >= 1 and df_categorical_status[1] >= 1):\n",
    "        all_valid_charts.append(\"discrete_line\")\n",
    "        all_recommend_dict[\"discrete_line\"] = 4\n",
    "    if(df_categorical_status[1] >= 2 and df_categorical_status[1] <= 4):\n",
    "        all_valid_charts.append(\"scatter_plot\")\n",
    "        all_recommend_dict[\"scatter_plot\"] = 3\n",
    "    if(df_categorical_status[1] == 2):\n",
    "        all_recommend_dict[\"scatter_plot\"] = 5\n",
    "    \n",
    "    return all_recommend_dict\n",
    "\n",
    "        \n",
    "rule_based_filtering(new_pd, all_recommend_dict)\n"
   ]
  },
  {
   "cell_type": "markdown",
   "metadata": {},
   "source": [
    "# One-dimensional Visualization\n",
    "Functions tailored to make one-dimensional visualization design.\n",
    "\n",
    "table_visualization(): generating a table various categrories.\n",
    "aligned_bar_visualization(): showing aligned bars on categorical/numerical data.\n",
    "box_plot(): (only works on numerical data) shows a box plot for distribution and analysis.\n",
    "density_plot(): (only works on numerical data) shows a density plot on the numerical value distribution."
   ]
  },
  {
   "cell_type": "code",
   "execution_count": 36,
   "metadata": {},
   "outputs": [],
   "source": [
    "# Inspiration: https://d3-graph-gallery.com/index.html\n",
    "# All valid visualizations listed here.\n",
    "# average: https://stackoverflow.com/questions/16689514/how-to-get-the-average-of-dataframe-column-values\n",
    "# https://stackoverflow.com/questions/43725513/pandas-get-average-dataframe/43725615\n",
    "# https://stackoverflow.com/questions/15360925/how-to-get-the-first-column-of-a-pandas-dataframe-as-a-series\n",
    "\n",
    "# If categorical, count numbers of occurences for each \n",
    "# sns.countplot\n",
    "# Unique Values\n",
    "# https://pandas.pydata.org/docs/reference/api/pandas.unique.html\n",
    "def table_visualization(data, directory='my_visualization.png'):\n",
    "    #plt.clf()\n",
    "    return_df = {}\n",
    "    return_df['Name'] = data.name\n",
    "    return_df['Total Rows'] = len(data.index)\n",
    "    if(is_categorical(data)):\n",
    "        return_df['Count of Unique Values'] = len(pd.unique(data))\n",
    "        real_return_df = pd.DataFrame(data=[return_df])\n",
    "        df_styled = real_return_df.style.background_gradient()\n",
    "        dfi.export(df_styled, directory,table_conversion='matplotlib')\n",
    "    else:\n",
    "        # Numerical\n",
    "        return_df['Average'] = data.mean()\n",
    "        return_df['Max'] = data.max()\n",
    "        return_df['Min'] = data.min()\n",
    "        return_df['standard deviation'] = data.std()\n",
    "        real_return_df = pd.DataFrame(data=[return_df])\n",
    "        df_styled = real_return_df.style.background_gradient()\n",
    "        dfi.export(df_styled, directory,table_conversion='matplotlib')\n",
    "    return directory\n",
    "    \n",
    "\n",
    "def aligned_bar_visualization(df, directory='my_visualization.png'):\n",
    "    # https://stackabuse.com/matplotlib-bar-plot-tutorial-and-examples/\n",
    "    # https://stackoverflow.com/questions/31037298/pandas-get-column-average-mean\n",
    "    plt.clf()\n",
    "    if(is_categorical(df)):\n",
    "        #other logic\n",
    "        # https://stackoverflow.com/questions/5312778/how-to-test-if-a-dictionary-contains-a-specific-key\n",
    "        x_dict = {}\n",
    "        x_result = []\n",
    "        y_result = []\n",
    "        all_list = df.values.tolist()\n",
    "        # https://stackoverflow.com/questions/3294889/iterating-over-dictionaries-using-for-loops\n",
    "        for i in range(0, len(all_list)):\n",
    "            if(all_list[i] not in x_dict):\n",
    "                x_dict[all_list[i]] = 0\n",
    "            x_dict[all_list[i]] = x_dict[all_list[i]] + 1\n",
    "        for key, value in x_dict.items():\n",
    "            x_result.append(key)\n",
    "            y_result.append(value)\n",
    "        plt.title(\"Aligned Bar Visualization for categorical choice\")\n",
    "        # https://stackoverflow.com/questions/40575067/matplotlib-bar-chart-space-out-bars\n",
    "        plt.bar(x_result, y_result, width = 0.5)\n",
    "        plt.savefig(directory)\n",
    "    else:\n",
    "        magic_num = 5\n",
    "        max_value = df.max()\n",
    "        min_value = df.min()\n",
    "        x_result = []\n",
    "        for i in range(0, magic_num):\n",
    "            x_result.append(i)\n",
    "        y_result = [0] * magic_num\n",
    "        step = (int)((max_value - min_value) / magic_num + 1)\n",
    "        for i in range(0, magic_num):\n",
    "            if(i == magic_num - 1):\n",
    "                x_result[i] = \"[\"  + str(min_value + step * i) + \",\" + str(max_value) + \"]\"\n",
    "            x_result[i] = \"[\"  + str(min_value + step * i) + \",\" + str(min_value + step * (i + 1)) + \"]\"\n",
    "        all_list = df.values.tolist()\n",
    "        for i in range(0, len(all_list)):\n",
    "            y_result[(int)((all_list[i] - min_value) / step)] = y_result[(int)((all_list[i]  - min_value) / step)] + 1\n",
    "        plt.title(\"Aligned Bar Visualization for numerical choice\")\n",
    "        # https://stackoverflow.com/questions/40575067/matplotlib-bar-chart-space-out-bars\n",
    "        plt.bar(x_result, y_result, width = 0.5)\n",
    "        plt.savefig(directory)\n",
    "    return directory\n",
    "    \n",
    "# SOURCE\n",
    "# Not suitable for categorical data.\n",
    "# https://matplotlib.org/3.5.0/gallery/pyplots/boxplot_demo_pyplot.html\n",
    "# https://stackoverflow.com/questions/45926230/how-to-calculate-1st-and-3rd-quartiles\n",
    "def box_plot(df, directory='my_visualization.png'):\n",
    "    plt.clf()\n",
    "    if(is_categorical(df)):\n",
    "        return \"N/A\"\n",
    "    fig1, ax1 = plt.subplots()\n",
    "    ax1.set_title('Box Plot Visualization for numerical choice')\n",
    "    ax1.boxplot(df)\n",
    "    fig1.savefig(directory)\n",
    "    return directory\n",
    "    \n",
    "# https://stackoverflow.com/questions/4150171/how-to-create-a-density-plot-in-matplotlib\n",
    "def density_plot(df, directory='my_visualization.png'):\n",
    "    plt.clf()\n",
    "    if(is_categorical(df)):\n",
    "        return \"N/A\"\n",
    "    sns.set_style('whitegrid')\n",
    "    plot = sns.kdeplot(df, bw=0.5)\n",
    "    fig = plot.get_figure()\n",
    "    fig.savefig(directory) \n",
    "    "
   ]
  },
  {
   "cell_type": "code",
   "execution_count": null,
   "metadata": {},
   "outputs": [],
   "source": []
  },
  {
   "cell_type": "code",
   "execution_count": 37,
   "metadata": {},
   "outputs": [
    {
     "data": {
      "text/plain": [
       "'my_visualization.png'"
      ]
     },
     "execution_count": 37,
     "metadata": {},
     "output_type": "execute_result"
    },
    {
     "data": {
      "text/plain": [
       "<Figure size 432x288 with 0 Axes>"
      ]
     },
     "metadata": {},
     "output_type": "display_data"
    },
    {
     "data": {
      "image/png": "[encoded data removed]",
      "text/plain": [
       "<Figure size 432x288 with 1 Axes>"
      ]
     },
     "metadata": {},
     "output_type": "display_data"
    }
   ],
   "source": [
    "#table_visualization(new_pd.iloc[:,0])\n",
    "#aligned_bar_visualization(new_pd.iloc[:,0])\n",
    "#new_pd.iloc[:,0]\n",
    "box_plot(new_pd.iloc[:,0])\n",
    "#density_plot(new_pd.iloc[:,0])"
   ]
  },
  {
   "cell_type": "code",
   "execution_count": 38,
   "metadata": {},
   "outputs": [],
   "source": [
    "# https://stackoverflow.com/questions/9622163/save-plot-to-image-file-instead-of-displaying-it-using-matplotlibs\n",
    "fig, ax = plt.subplots( nrows=1, ncols=1 )  # create figure & 1 axis\n",
    "ax.plot([0,1,2], [10,20,3])\n",
    "fig.savefig('./1.png')   # save the figure to file\n",
    "plt.close(fig)    # close the figure window\n"
   ]
  },
  {
   "cell_type": "markdown",
   "metadata": {},
   "source": [
    "# Unstructured Data\n",
    "\n",
    "This part shows the unstructured data and some possible visualization methods.\n",
    "It can provide top words and generate wordclouds."
   ]
  },
  {
   "cell_type": "code",
   "execution_count": 39,
   "metadata": {},
   "outputs": [],
   "source": [
    "# https://amueller.github.io/word_cloud/auto_examples/simple.html#sphx-glr-auto-examples-simple-py\n",
    "# For unstuctured data\n",
    "text = open('./data.txt').read()\n",
    "#print(text)\n",
    "# Generate a word cloud image\n",
    "\n",
    "def generate_wordcloud(text, directory=\"my_visualization.png\"):\n",
    "    wordcloud = WordCloud().generate(text)\n",
    "    \n",
    "    # Display the generated image:\n",
    "    # the matplotlib way:             \n",
    "    plt.imshow(wordcloud, interpolation='bilinear')\n",
    "    plt.axis(\"off\")\n",
    "    \n",
    "    \n",
    "    # lower max_font_size\n",
    "    wordcloud = WordCloud(max_font_size=40).generate(text)\n",
    "    plt.figure()\n",
    "    plt.imshow(wordcloud, interpolation=\"bilinear\")\n",
    "    plt.axis(\"off\")\n",
    "    plt.show()\n",
    "\n",
    "\n",
    "    #https://stackoverflow.com/questions/5486337/how-to-remove-stop-words-using-nltk-or-python\n",
    "    processed_texts = nltk.word_tokenize(text)\n",
    "    filtered_words = [word for word in processed_texts if word not in stopwords.words('english')]\n",
    "    filtered_word = \"\"\n",
    "    for i in range(0, len(filtered_words)):\n",
    "        filtered_word = filtered_word + \" \" + filtered_words[i] + \" \"\n",
    "    wordcloud = WordCloud().generate(filtered_word)\n",
    "    plt.imshow(wordcloud, interpolation='bilinear')\n",
    "    plt.axis(\"off\")\n",
    "    plt.savefig(directory)\n",
    "    #plt.axis(\"off\")\n",
    "    \n",
    "    return directory\n",
    "\n",
    "# https://stackoverflow.com/questions/28392860/print-10-most-frequently-occurring-words-of-a-text-that-including-and-excluding\n",
    "def present_top_words(text, directory=\"my_visualization.png\", top_count=10):\n",
    "    plt.clf()\n",
    "    processed_texts = nltk.word_tokenize(text)\n",
    "    filtered_words = [word for word in processed_texts if word not in stopwords.words('english') and len(word) > 2]\n",
    "    allWordDist = nltk.FreqDist(w.lower() for w in filtered_words)\n",
    "    most_common = []\n",
    "    most_common_counts = []#allWordDist.most_common(top_count)[0:top_count]\n",
    "    for i in range(0, min(top_count, len(allWordDist))):\n",
    "        most_common.append(allWordDist.most_common(top_count)[i][0])\n",
    "        most_common_counts.append(allWordDist.most_common(top_count)[i][1])\n",
    "    plt.bar(most_common, most_common_counts, width = 0.5)\n",
    "    plt.savefig(directory)\n",
    "    return directory"
   ]
  },
  {
   "cell_type": "code",
   "execution_count": 40,
   "metadata": {},
   "outputs": [
    {
     "data": {
      "text/plain": [
       "'my_visualization.png'"
      ]
     },
     "execution_count": 40,
     "metadata": {},
     "output_type": "execute_result"
    },
    {
     "data": {
      "image/png": "[encoded data removed]",
      "text/plain": [
       "<Figure size 432x288 with 1 Axes>"
      ]
     },
     "metadata": {},
     "output_type": "display_data"
    }
   ],
   "source": [
    "#generate_wordcloud(text)\n",
    "present_top_words(text)"
   ]
  },
  {
   "cell_type": "markdown",
   "metadata": {},
   "source": [
    "# Multiple Visualization Functions\n",
    "Suitable for visualization a moderate size of data (2 - 4.)\n",
    "\n",
    "[Modified]"
   ]
  },
  {
   "cell_type": "code",
   "execution_count": 41,
   "metadata": {},
   "outputs": [
    {
     "data": {
      "text/plain": [
       "'\\ndef countries_visualization(df1, df2, directory=\"my_visualization.png\"):\\n    countries = gpd.read_file(gpd.datasets.get_path(\"naturalearth_lowres\"))\\n    countries.plot(color=\"lightgrey\")\\n    return directory\\n'"
      ]
     },
     "execution_count": 41,
     "metadata": {},
     "output_type": "execute_result"
    }
   ],
   "source": [
    "def scatter_plot_visualization(df1, df2, directory=\"my_visualization.png\"):\n",
    "    #if(is_categorical(df1) or is_categorical(df2)):\n",
    "    #    return \"N/A\"\n",
    "    #else:\n",
    "    plt.clf()\n",
    "    plt.plot(df1, df2, 'o')\n",
    "    plt.savefig(directory)\n",
    "    return directory\n",
    "\n",
    "\"\"\"\n",
    "def heat_map_visualization(df1, df2, df3, directory=\"my_visualization.png\"):\n",
    "    if(is_categorical(df1) or is_categorical(df2) or is_categorical(df2)):\n",
    "        return \"N/A\"\n",
    "    else:\n",
    "        ax = sns.heatmap(uniform_data)\n",
    "        fig = plot.get_figure()\n",
    "        fig.savefig(directory) \n",
    "        return directory\n",
    "\n",
    "\"\"\"\n",
    "\n",
    "\n",
    "\"\"\"\n",
    "def countries_visualization(df1, df2, directory=\"my_visualization.png\"):\n",
    "    countries = gpd.read_file(gpd.datasets.get_path(\"naturalearth_lowres\"))\n",
    "    countries.plot(color=\"lightgrey\")\n",
    "    return directory\n",
    "\"\"\""
   ]
  },
  {
   "cell_type": "code",
   "execution_count": 42,
   "metadata": {},
   "outputs": [],
   "source": [
    "#heat_map_visualization(df1, df2, directory=\"my_visualization.png\"):"
   ]
  },
  {
   "cell_type": "code",
   "execution_count": 43,
   "metadata": {},
   "outputs": [
    {
     "name": "stderr",
     "output_type": "stream",
     "text": [
      "/opt/anaconda3/lib/python3.8/site-packages/seaborn/distributions.py:1659: FutureWarning: The `bw` parameter is deprecated in favor of `bw_method` and `bw_adjust`. Using 0.5 for `bw_method`, but please see the docs for the new parameters and update your code.\n",
      "  warnings.warn(msg, FutureWarning)\n",
      "/opt/anaconda3/lib/python3.8/site-packages/seaborn/distributions.py:1659: FutureWarning: The `bw` parameter is deprecated in favor of `bw_method` and `bw_adjust`. Using 0.5 for `bw_method`, but please see the docs for the new parameters and update your code.\n",
      "  warnings.warn(msg, FutureWarning)\n",
      "/opt/anaconda3/lib/python3.8/site-packages/seaborn/distributions.py:1659: FutureWarning: The `bw` parameter is deprecated in favor of `bw_method` and `bw_adjust`. Using 0.5 for `bw_method`, but please see the docs for the new parameters and update your code.\n",
      "  warnings.warn(msg, FutureWarning)\n",
      "/opt/anaconda3/lib/python3.8/site-packages/seaborn/distributions.py:1659: FutureWarning: The `bw` parameter is deprecated in favor of `bw_method` and `bw_adjust`. Using 0.5 for `bw_method`, but please see the docs for the new parameters and update your code.\n",
      "  warnings.warn(msg, FutureWarning)\n",
      "/opt/anaconda3/lib/python3.8/site-packages/seaborn/distributions.py:305: UserWarning: Dataset has 0 variance; skipping density estimate.\n",
      "  warnings.warn(msg, UserWarning)\n",
      "/opt/anaconda3/lib/python3.8/site-packages/seaborn/distributions.py:1659: FutureWarning: The `bw` parameter is deprecated in favor of `bw_method` and `bw_adjust`. Using 0.5 for `bw_method`, but please see the docs for the new parameters and update your code.\n",
      "  warnings.warn(msg, FutureWarning)\n",
      "/opt/anaconda3/lib/python3.8/site-packages/seaborn/distributions.py:1659: FutureWarning: The `bw` parameter is deprecated in favor of `bw_method` and `bw_adjust`. Using 0.5 for `bw_method`, but please see the docs for the new parameters and update your code.\n",
      "  warnings.warn(msg, FutureWarning)\n",
      "/opt/anaconda3/lib/python3.8/site-packages/seaborn/distributions.py:305: UserWarning: Dataset has 0 variance; skipping density estimate.\n",
      "  warnings.warn(msg, UserWarning)\n",
      "/opt/anaconda3/lib/python3.8/site-packages/seaborn/distributions.py:1659: FutureWarning: The `bw` parameter is deprecated in favor of `bw_method` and `bw_adjust`. Using 0.5 for `bw_method`, but please see the docs for the new parameters and update your code.\n",
      "  warnings.warn(msg, FutureWarning)\n",
      "/opt/anaconda3/lib/python3.8/site-packages/seaborn/distributions.py:305: UserWarning: Dataset has 0 variance; skipping density estimate.\n",
      "  warnings.warn(msg, UserWarning)\n",
      "/opt/anaconda3/lib/python3.8/site-packages/seaborn/distributions.py:1659: FutureWarning: The `bw` parameter is deprecated in favor of `bw_method` and `bw_adjust`. Using 0.5 for `bw_method`, but please see the docs for the new parameters and update your code.\n",
      "  warnings.warn(msg, FutureWarning)\n",
      "/opt/anaconda3/lib/python3.8/site-packages/seaborn/distributions.py:305: UserWarning: Dataset has 0 variance; skipping density estimate.\n",
      "  warnings.warn(msg, UserWarning)\n"
     ]
    },
    {
     "data": {
      "text/plain": [
       "[['../test/sample2/table_visualization_0.png', 'table', 'pokemonId'],\n",
       " ['../test/sample2/aligned_bar_visualization_0.png',\n",
       "  'aligned bar',\n",
       "  'pokemonId'],\n",
       " ['../test/sample2/box_plot_0.png', 'box plot', 'pokemonId'],\n",
       " [None, 'density plot', 'pokemonId'],\n",
       " ['../test/sample2/table_visualization_1.png', 'table', 'latitude'],\n",
       " ['../test/sample2/aligned_bar_visualization_1.png',\n",
       "  'aligned bar',\n",
       "  'latitude'],\n",
       " ['../test/sample2/box_plot_1.png', 'box plot', 'latitude'],\n",
       " [None, 'density plot', 'latitude'],\n",
       " ['../test/sample2/table_visualization_2.png', 'table', 'longitude'],\n",
       " ['../test/sample2/aligned_bar_visualization_2.png',\n",
       "  'aligned bar',\n",
       "  'longitude'],\n",
       " ['../test/sample2/box_plot_2.png', 'box plot', 'longitude'],\n",
       " [None, 'density plot', 'longitude'],\n",
       " ['../test/sample2/table_visualization_3.png', 'table', 'appearedTimeOfDay'],\n",
       " ['../test/sample2/aligned_bar_visualization_3.png',\n",
       "  'aligned bar',\n",
       "  'appearedTimeOfDay'],\n",
       " ['N/A', 'box plot', 'appearedTimeOfDay'],\n",
       " ['N/A', 'density plot', 'appearedTimeOfDay'],\n",
       " ['../test/sample2/table_visualization_4.png', 'table', 'appearedHour'],\n",
       " ['../test/sample2/aligned_bar_visualization_4.png',\n",
       "  'aligned bar',\n",
       "  'appearedHour'],\n",
       " ['../test/sample2/box_plot_4.png', 'box plot', 'appearedHour'],\n",
       " [None, 'density plot', 'appearedHour'],\n",
       " ['../test/sample2/table_visualization_5.png', 'table', 'appearedMinute'],\n",
       " ['../test/sample2/aligned_bar_visualization_5.png',\n",
       "  'aligned bar',\n",
       "  'appearedMinute'],\n",
       " ['../test/sample2/box_plot_5.png', 'box plot', 'appearedMinute'],\n",
       " [None, 'density plot', 'appearedMinute'],\n",
       " ['../test/sample2/table_visualization_6.png', 'table', 'appearedDayOfWeek'],\n",
       " ['../test/sample2/aligned_bar_visualization_6.png',\n",
       "  'aligned bar',\n",
       "  'appearedDayOfWeek'],\n",
       " ['N/A', 'box plot', 'appearedDayOfWeek'],\n",
       " ['N/A', 'density plot', 'appearedDayOfWeek'],\n",
       " ['../test/sample2/table_visualization_7.png', 'table', 'appearedDay'],\n",
       " ['../test/sample2/aligned_bar_visualization_7.png',\n",
       "  'aligned bar',\n",
       "  'appearedDay'],\n",
       " ['../test/sample2/box_plot_7.png', 'box plot', 'appearedDay'],\n",
       " [None, 'density plot', 'appearedDay'],\n",
       " ['../test/sample2/table_visualization_8.png', 'table', 'appearedMonth'],\n",
       " ['../test/sample2/aligned_bar_visualization_8.png',\n",
       "  'aligned bar',\n",
       "  'appearedMonth'],\n",
       " ['../test/sample2/box_plot_8.png', 'box plot', 'appearedMonth'],\n",
       " [None, 'density plot', 'appearedMonth'],\n",
       " ['../test/sample2/table_visualization_9.png', 'table', 'appearedYear'],\n",
       " ['../test/sample2/aligned_bar_visualization_9.png',\n",
       "  'aligned bar',\n",
       "  'appearedYear'],\n",
       " ['../test/sample2/box_plot_9.png', 'box plot', 'appearedYear'],\n",
       " [None, 'density plot', 'appearedYear'],\n",
       " ['../test/sample2/scatter_plot_0.png', 'scatter plot', 'appearedYear'],\n",
       " ['../test/sample2/scatter_plot_1.png', 'scatter plot', 'terrainType'],\n",
       " ['../test/sample2/scatter_plot_2.png', 'scatter plot', 'closeToWater'],\n",
       " ['../test/sample2/scatter_plot_3.png', 'scatter plot', 'city'],\n",
       " ['../test/sample2/scatter_plot_4.png', 'scatter plot', 'continent'],\n",
       " ['../test/sample2/scatter_plot_5.png', 'scatter plot', 'weather'],\n",
       " ['../test/sample2/scatter_plot_6.png', 'scatter plot', 'temperature'],\n",
       " ['../test/sample2/scatter_plot_7.png', 'scatter plot', 'windSpeed'],\n",
       " ['../test/sample2/scatter_plot_8.png', 'scatter plot', 'windBearing'],\n",
       " ['../test/sample2/scatter_plot_9.png', 'scatter plot', 'pressure'],\n",
       " ['../test/sample2/scatter_plot_10.png', 'scatter plot', 'weatherIcon'],\n",
       " ['../test/sample2/scatter_plot_11.png', 'scatter plot', 'sunriseHour'],\n",
       " ['../test/sample2/scatter_plot_12.png', 'scatter plot', 'sunriseMinute'],\n",
       " ['../test/sample2/scatter_plot_13.png',\n",
       "  'scatter plot',\n",
       "  'sunriseMinutesSince'],\n",
       " ['../test/sample2/scatter_plot_14.png', 'scatter plot', 'sunsetHour'],\n",
       " ['../test/sample2/scatter_plot_15.png', 'scatter plot', 'sunsetMinute'],\n",
       " ['../test/sample2/scatter_plot_16.png',\n",
       "  'scatter plot',\n",
       "  'sunsetMinutesBefore'],\n",
       " ['../test/sample2/scatter_plot_17.png', 'scatter plot', 'population_density'],\n",
       " ['../test/sample2/scatter_plot_18.png', 'scatter plot', 'urban'],\n",
       " ['../test/sample2/scatter_plot_19.png', 'scatter plot', 'suburban']]"
      ]
     },
     "execution_count": 43,
     "metadata": {},
     "output_type": "execute_result"
    },
    {
     "data": {
      "text/plain": [
       "<Figure size 432x288 with 0 Axes>"
      ]
     },
     "metadata": {},
     "output_type": "display_data"
    },
    {
     "data": {
      "text/plain": [
       "<Figure size 432x288 with 0 Axes>"
      ]
     },
     "metadata": {},
     "output_type": "display_data"
    },
    {
     "data": {
      "text/plain": [
       "<Figure size 432x288 with 0 Axes>"
      ]
     },
     "metadata": {},
     "output_type": "display_data"
    },
    {
     "data": {
      "text/plain": [
       "<Figure size 432x288 with 0 Axes>"
      ]
     },
     "metadata": {},
     "output_type": "display_data"
    },
    {
     "data": {
      "text/plain": [
       "<Figure size 432x288 with 0 Axes>"
      ]
     },
     "metadata": {},
     "output_type": "display_data"
    },
    {
     "data": {
      "text/plain": [
       "<Figure size 432x288 with 0 Axes>"
      ]
     },
     "metadata": {},
     "output_type": "display_data"
    },
    {
     "data": {
      "text/plain": [
       "<Figure size 432x288 with 0 Axes>"
      ]
     },
     "metadata": {},
     "output_type": "display_data"
    },
    {
     "data": {
      "text/plain": [
       "<Figure size 432x288 with 0 Axes>"
      ]
     },
     "metadata": {},
     "output_type": "display_data"
    },
    {
     "data": {
      "image/png": "[encoded data removed]",
      "text/plain": [
       "<Figure size 432x288 with 1 Axes>"
      ]
     },
     "metadata": {},
     "output_type": "display_data"
    }
   ],
   "source": [
    "# generate all possible visualizations, with C(n, magic_number).\n",
    "# Some dimensionality reduction features are applied spefically to the data.\n",
    "\n",
    "def generate_all_vis(directory='../test/sample2/', magic_number = 4, upper_column_constraint=10):\n",
    "    if(directory[-1] != '/'):\n",
    "        directory = directory + '/'\n",
    "    full_data_dir = directory + \"/data.txt\"\n",
    "    try:\n",
    "        df = pd.read_csv(full_data_dir, sep=\",\", header=0)\n",
    "    except (IOError, NotADirectoryError, ParserError) as e:\n",
    "        text = open(full_data_dir).read()\n",
    "        return_list = []\n",
    "        \n",
    "        visualization_name = directory + \"wordcloud_visualization_1.png\"\n",
    "        graph_value = generate_wordcloud(text, visualization_name)\n",
    "        return_list.append([graph_value, \"word cloud plot\", \"Standalone Text\"])\n",
    "        \n",
    "        \n",
    "        visualization_name = directory + \"top_words_visualization_1.png\"\n",
    "        graph_value = present_top_words(text, visualization_name)\n",
    "        return_list.append([graph_value, \"top words plot\", \"Standalone Text\"])\n",
    "        return return_list\n",
    "    else:\n",
    "        return_list = []\n",
    "        all_columns = df.columns\n",
    "        graph_id = 0\n",
    "        # TODO: remove this after testing\n",
    "        df = df.head(200)\n",
    "        for i in range(0, len(all_columns)):\n",
    "            df[all_columns[i]] = pd.to_numeric(df[all_columns[i]], errors='ignore')\n",
    "    \n",
    "        # Dimension Reduction\n",
    "        # Could be extended to implement; filtered here arbitarily to save time and effort\n",
    "        # https://stackoverflow.com/questions/13411544/delete-a-column-from-a-pandas-dataframe\n",
    "        # https://stackoverflow.com/questions/31328861/python-pandas-replacing-header-with-top-row\n",
    "        # https://stackoverflow.com/questions/19071199/drop-columns-whose-name-contains-a-specific-string-from-pandas-dataframe\n",
    "\n",
    "        # remove correlation\n",
    "        df = df[df.columns.drop(list(df.filter(regex='cooc')))]\n",
    "        df = df[df.columns.drop(list(df.filter(regex='cellId')))]\n",
    "        df = df[df.columns.drop(list(df.filter(regex='gymIn')))]\n",
    "        df = df[df.columns.drop(list(df.filter(regex='pokestopIn')))]\n",
    "        df = df[df.columns.drop(list(df.filter(regex='id')))]\n",
    "        df = df[df.columns.drop(list(df.filter(regex='appearedLocalTime')))]\n",
    "        # read in data from the directory\n",
    "        # i = 1\n",
    "        #graph_id = graph_id + 1\n",
    "        all_list = combination(len(df.columns), 1)\n",
    "        for graph_id in range(0, upper_column_constraint):\n",
    "            visualization_name = directory + \"table_visualization_\" + str(graph_id) + \".png\"\n",
    "            graph_value = table_visualization(df.iloc[:,graph_id], visualization_name)\n",
    "            return_list.append([graph_value, \"table\", df.columns[graph_id]])\n",
    "        \n",
    "            visualization_name = directory + \"aligned_bar_visualization_\" + str(graph_id) + \".png\"\n",
    "            graph_value = aligned_bar_visualization(df.iloc[:,graph_id], visualization_name)\n",
    "            return_list.append([graph_value, \"aligned bar\", df.columns[graph_id]])\n",
    "        \n",
    "            visualization_name = directory + \"box_plot_\" + str(graph_id) + \".png\"\n",
    "            graph_value = box_plot(df.iloc[:,graph_id], visualization_name)\n",
    "            return_list.append([graph_value, \"box plot\", df.columns[graph_id]])\n",
    "        \n",
    "            visualization_name = directory + \"density_plot_\" + str(graph_id) + \".png\"\n",
    "            graph_value = density_plot(df.iloc[:,graph_id], visualization_name)\n",
    "            return_list.append([graph_value, \"density plot\", df.columns[graph_id]])\n",
    "        #i = 2\n",
    "        all_list = combination(len(df.columns), 2)\n",
    "        # TODO: Change this\n",
    "        for i in range(0, min(len(combination(len(df.columns), 2)), 20)):\n",
    "            visualization_name = directory + \"scatter_plot_\" + str(i) + \".png\"\n",
    "            graph_value = scatter_plot_visualization(df.iloc[:,all_list[i][0]],\n",
    "                                                 df.iloc[:,all_list[i][1]], visualization_name)\n",
    "            return_list.append([graph_value, \"scatter plot\", df.columns[graph_id]])\n",
    "            #df.columns[graph_id], df.columns[graph_id]\n",
    "            graph_id = graph_id + 1\n",
    "        return return_list\n",
    "    \n",
    "generate_all_vis()\n",
    "\n"
   ]
  },
  {
   "cell_type": "code",
   "execution_count": 44,
   "metadata": {},
   "outputs": [],
   "source": [
    "#df = pd.read_csv(\"hamlet.txt\", sep=\",\", header=0)"
   ]
  },
  {
   "cell_type": "code",
   "execution_count": null,
   "metadata": {},
   "outputs": [],
   "source": []
  },
  {
   "cell_type": "code",
   "execution_count": null,
   "metadata": {},
   "outputs": [],
   "source": []
  },
  {
   "cell_type": "code",
   "execution_count": null,
   "metadata": {},
   "outputs": [],
   "source": []
  }
 ],
 "metadata": {
  "kernelspec": {
   "display_name": "Python 3",
   "language": "python",
   "name": "python3"
  },
  "language_info": {
   "codemirror_mode": {
    "name": "ipython",
    "version": 3
   },
   "file_extension": ".py",
   "mimetype": "text/x-python",
   "name": "python",
   "nbconvert_exporter": "python",
   "pygments_lexer": "ipython3",
   "version": "3.8.5"
  }
 },
 "nbformat": 4,
 "nbformat_minor": 4
}
